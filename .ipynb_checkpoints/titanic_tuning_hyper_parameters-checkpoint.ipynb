{
 "cells": [
  {
   "cell_type": "code",
   "execution_count": 340,
   "metadata": {
    "collapsed": true
   },
   "outputs": [],
   "source": [
    "import pandas as pd\n",
    "import numpy as np\n",
    "import random as rnd\n",
    "\n",
    "def titanic(train, test):\n",
    "    train_df = pd.read_csv(train)\n",
    "    test_df = pd.read_csv(test)\n",
    "    combine = [train_df, test_df]\n",
    "\n",
    "    train_df = train_df.drop(['Ticket', 'Cabin'], axis=1)\n",
    "    test_df = test_df.drop(['Ticket', 'Cabin'], axis=1)\n",
    "    combine = [train_df, test_df]\n",
    "\n",
    "    for dataset in combine:\n",
    "        dataset['Title'] = dataset.Name.str.extract(' ([A-Za-z]+)\\.', expand=False)\n",
    "\n",
    "    pd.crosstab(train_df['Title'], train_df['Sex'])\n",
    "\n",
    "    for dataset in combine:\n",
    "        dataset['Title'] = dataset['Title'].replace(['Lady', 'Countess','Capt', 'Col',\\\n",
    "        'Don', 'Dr', 'Major', 'Rev', 'Sir', 'Jonkheer', 'Dona'], 'Rare')\n",
    "\n",
    "        dataset['Title'] = dataset['Title'].replace('Mlle', 'Miss')\n",
    "        dataset['Title'] = dataset['Title'].replace('Ms', 'Miss')\n",
    "        dataset['Title'] = dataset['Title'].replace('Mme', 'Mrs')\n",
    "\n",
    "    train_df[['Title', 'Survived']].groupby(['Title'], as_index=False).mean()\n",
    "\n",
    "    title_mapping = {\"Mr\": 1, \"Miss\": 2, \"Mrs\": 3, \"Master\": 4, \"Rare\": 5}\n",
    "    for dataset in combine:\n",
    "        dataset['Title'] = dataset['Title'].map(title_mapping)\n",
    "        dataset['Title'] = dataset['Title'].fillna(0)\n",
    "\n",
    "    train_df = train_df.drop(['Name', 'PassengerId'], axis=1)\n",
    "    test_df = test_df.drop(['Name'], axis=1)\n",
    "    combine = [train_df, test_df]\n",
    "\n",
    "    for dataset in combine:\n",
    "        dataset['Sex'] = dataset['Sex'].map( {'female': 1, 'male': 0} ).astype(int)\n",
    "\n",
    "    guess_ages = np.zeros((2,3))\n",
    "    guess_ages\n",
    "\n",
    "    for dataset in combine:\n",
    "        for i in range(0, 2):\n",
    "            for j in range(0, 3):\n",
    "                guess_df = dataset[(dataset['Sex'] == i) & \\\n",
    "                                      (dataset['Pclass'] == j+1)]['Age'].dropna()\n",
    "\n",
    "                # age_mean = guess_df.mean()\n",
    "                # age_std = guess_df.std()\n",
    "                # age_guess = rnd.uniform(age_mean - age_std, age_mean + age_std)\n",
    "\n",
    "                age_guess = guess_df.median()\n",
    "\n",
    "                # Convert random age float to nearest .5 age\n",
    "                guess_ages[i,j] = int( age_guess/0.5 + 0.5 ) * 0.5\n",
    "\n",
    "        for i in range(0, 2):\n",
    "            for j in range(0, 3):\n",
    "                dataset.loc[ (dataset.Age.isnull()) & (dataset.Sex == i) & (dataset.Pclass == j+1),\\\n",
    "                        'Age'] = guess_ages[i,j]\n",
    "\n",
    "        dataset['Age'] = dataset['Age'].astype(int)\n",
    "\n",
    "    for dataset in combine:\n",
    "        dataset['FamilySize'] = dataset['SibSp'] + dataset['Parch'] + 1\n",
    "\n",
    "\n",
    "\n",
    "    for dataset in combine:\n",
    "        dataset['IsAlone'] = 0\n",
    "        dataset.loc[dataset['FamilySize'] == 1, 'IsAlone'] = 1\n",
    "\n",
    "    combine = [train_df, test_df]\n",
    "\n",
    "    freq_port = train_df.Embarked.dropna().mode()[0]\n",
    "\n",
    "    for dataset in combine:\n",
    "        dataset['Embarked'] = dataset['Embarked'].fillna(freq_port)\n",
    "\n",
    "    test_df['Fare'].fillna(test_df['Fare'].dropna().median(), inplace=True)\n",
    "    \n",
    "    test_df = pd.get_dummies(test_df)\n",
    "    train_df = pd.get_dummies(train_df)\n",
    "\n",
    "    test_df.head(10)\n",
    "    return (train_df, test_df)"
   ]
  },
  {
   "cell_type": "code",
   "execution_count": 341,
   "metadata": {},
   "outputs": [
    {
     "data": {
      "text/html": [
       "<div>\n",
       "<style>\n",
       "    .dataframe thead tr:only-child th {\n",
       "        text-align: right;\n",
       "    }\n",
       "\n",
       "    .dataframe thead th {\n",
       "        text-align: left;\n",
       "    }\n",
       "\n",
       "    .dataframe tbody tr th {\n",
       "        vertical-align: top;\n",
       "    }\n",
       "</style>\n",
       "<table border=\"1\" class=\"dataframe\">\n",
       "  <thead>\n",
       "    <tr style=\"text-align: right;\">\n",
       "      <th></th>\n",
       "      <th>Survived</th>\n",
       "      <th>Pclass</th>\n",
       "      <th>Sex</th>\n",
       "      <th>Age</th>\n",
       "      <th>SibSp</th>\n",
       "      <th>Parch</th>\n",
       "      <th>Fare</th>\n",
       "      <th>Title</th>\n",
       "      <th>FamilySize</th>\n",
       "      <th>IsAlone</th>\n",
       "      <th>Embarked_C</th>\n",
       "      <th>Embarked_Q</th>\n",
       "      <th>Embarked_S</th>\n",
       "    </tr>\n",
       "  </thead>\n",
       "  <tbody>\n",
       "    <tr>\n",
       "      <th>0</th>\n",
       "      <td>0</td>\n",
       "      <td>3</td>\n",
       "      <td>0</td>\n",
       "      <td>22</td>\n",
       "      <td>1</td>\n",
       "      <td>0</td>\n",
       "      <td>7.2500</td>\n",
       "      <td>1</td>\n",
       "      <td>2</td>\n",
       "      <td>0</td>\n",
       "      <td>0</td>\n",
       "      <td>0</td>\n",
       "      <td>1</td>\n",
       "    </tr>\n",
       "    <tr>\n",
       "      <th>1</th>\n",
       "      <td>1</td>\n",
       "      <td>1</td>\n",
       "      <td>1</td>\n",
       "      <td>38</td>\n",
       "      <td>1</td>\n",
       "      <td>0</td>\n",
       "      <td>71.2833</td>\n",
       "      <td>3</td>\n",
       "      <td>2</td>\n",
       "      <td>0</td>\n",
       "      <td>1</td>\n",
       "      <td>0</td>\n",
       "      <td>0</td>\n",
       "    </tr>\n",
       "    <tr>\n",
       "      <th>2</th>\n",
       "      <td>1</td>\n",
       "      <td>3</td>\n",
       "      <td>1</td>\n",
       "      <td>26</td>\n",
       "      <td>0</td>\n",
       "      <td>0</td>\n",
       "      <td>7.9250</td>\n",
       "      <td>2</td>\n",
       "      <td>1</td>\n",
       "      <td>1</td>\n",
       "      <td>0</td>\n",
       "      <td>0</td>\n",
       "      <td>1</td>\n",
       "    </tr>\n",
       "    <tr>\n",
       "      <th>3</th>\n",
       "      <td>1</td>\n",
       "      <td>1</td>\n",
       "      <td>1</td>\n",
       "      <td>35</td>\n",
       "      <td>1</td>\n",
       "      <td>0</td>\n",
       "      <td>53.1000</td>\n",
       "      <td>3</td>\n",
       "      <td>2</td>\n",
       "      <td>0</td>\n",
       "      <td>0</td>\n",
       "      <td>0</td>\n",
       "      <td>1</td>\n",
       "    </tr>\n",
       "    <tr>\n",
       "      <th>4</th>\n",
       "      <td>0</td>\n",
       "      <td>3</td>\n",
       "      <td>0</td>\n",
       "      <td>35</td>\n",
       "      <td>0</td>\n",
       "      <td>0</td>\n",
       "      <td>8.0500</td>\n",
       "      <td>1</td>\n",
       "      <td>1</td>\n",
       "      <td>1</td>\n",
       "      <td>0</td>\n",
       "      <td>0</td>\n",
       "      <td>1</td>\n",
       "    </tr>\n",
       "  </tbody>\n",
       "</table>\n",
       "</div>"
      ],
      "text/plain": [
       "   Survived  Pclass  Sex  Age  SibSp  Parch     Fare  Title  FamilySize  \\\n",
       "0         0       3    0   22      1      0   7.2500      1           2   \n",
       "1         1       1    1   38      1      0  71.2833      3           2   \n",
       "2         1       3    1   26      0      0   7.9250      2           1   \n",
       "3         1       1    1   35      1      0  53.1000      3           2   \n",
       "4         0       3    0   35      0      0   8.0500      1           1   \n",
       "\n",
       "   IsAlone  Embarked_C  Embarked_Q  Embarked_S  \n",
       "0        0           0           0           1  \n",
       "1        0           1           0           0  \n",
       "2        1           0           0           1  \n",
       "3        0           0           0           1  \n",
       "4        1           0           0           1  "
      ]
     },
     "execution_count": 341,
     "metadata": {},
     "output_type": "execute_result"
    }
   ],
   "source": [
    "train = './titanic/train.csv'\n",
    "test = './titanic/test.csv'\n",
    "train, test = titanic(train, test)\n",
    "train.head()\n",
    "\n"
   ]
  },
  {
   "cell_type": "code",
   "execution_count": null,
   "metadata": {
    "scrolled": true
   },
   "outputs": [],
   "source": []
  },
  {
   "cell_type": "code",
   "execution_count": 342,
   "metadata": {
    "collapsed": true
   },
   "outputs": [],
   "source": [
    "target = test.iloc[:, 1:]"
   ]
  },
  {
   "cell_type": "code",
   "execution_count": 372,
   "metadata": {},
   "outputs": [],
   "source": [
    "\n",
    "\n",
    "X = train.iloc[:, 1:]\n",
    "\n",
    "# x contains of features\n",
    "\n",
    "y = train.iloc[:, 0]\n",
    "\n",
    "# y is the target"
   ]
  },
  {
   "cell_type": "code",
   "execution_count": 373,
   "metadata": {},
   "outputs": [],
   "source": [
    "from sklearn.ensemble import RandomForestClassifier\n",
    "from sklearn.metrics import make_scorer, accuracy_score\n",
    "from sklearn.model_selection import GridSearchCV\n",
    "\n",
    "from sklearn.model_selection import train_test_split\n",
    "import matplotlib.pyplot as plt\n",
    "%matplotlib inline\n",
    "\n"
   ]
  },
  {
   "cell_type": "code",
   "execution_count": 374,
   "metadata": {},
   "outputs": [],
   "source": [
    "X_train, X_test, y_train, y_test = train_test_split(X, y, test_size=0.2, random_state=23)"
   ]
  },
  {
   "cell_type": "code",
   "execution_count": 361,
   "metadata": {
    "collapsed": true
   },
   "outputs": [],
   "source": [
    "\n",
    "\n",
    "X = train.iloc[:, 1:]\n",
    "\n",
    "# x contains of features\n",
    "\n",
    "y = train.iloc[:, 0]\n",
    "\n",
    "# y is the target"
   ]
  },
  {
   "cell_type": "code",
   "execution_count": 362,
   "metadata": {
    "collapsed": true
   },
   "outputs": [],
   "source": [
    "#plot mean scores for a particular grid object\n",
    "def hp_cv_scores(grid_obj):\n",
    "    grid_obj.cv_results_\n",
    "    mean_test_scores = grid_obj.cv_results_['mean_test_score']\n",
    "    mean_train_scores = grid_obj.cv_results_['mean_train_score']\n",
    "    plt.figure(figsize=(10,6))\n",
    "    \n",
    "    param_values =[str(x) for x in grid_obj.param_grid.values()[0]]\n",
    "    x = np.arange(1, len(param_values)+1)\n",
    "    \n",
    "    plt.plot(x,mean_train_scores,c='r')\n",
    "    plt.xticks(x,param_values)\n",
    "    plt.plot(x,mean_test_scores,c='g')\n",
    "    plt.xlabel(grid_obj.param_grid.keys()[0])\n",
    "    plt.ylabel('mean scores')\n",
    "    plt.show()"
   ]
  },
  {
   "cell_type": "code",
   "execution_count": 363,
   "metadata": {
    "collapsed": true
   },
   "outputs": [],
   "source": [
    "parameter = {'n_estimators': [2, 4, 8, 16], \n",
    "              'max_features': ['log2'], \n",
    "              'criterion': ['gini'],\n",
    "              'max_depth': 4, \n",
    "              'min_samples_split': [5, 30],\n",
    "              'min_samples_leaf': [1]\n",
    "             }"
   ]
  },
  {
   "cell_type": "code",
   "execution_count": 379,
   "metadata": {},
   "outputs": [
    {
     "data": {
      "image/png": "[encoded data removed]",
      "text/plain": [
       "<matplotlib.figure.Figure at 0x7f95c1e7f750>"
      ]
     },
     "metadata": {},
     "output_type": "display_data"
    }
   ],
   "source": [
    "grid = gridfunc(classifier,{'max_depth': [2,4,8,16]} , X_train, y_train)\n",
    "\n",
    "hp_cv_scores(grid)"
   ]
  },
  {
   "cell_type": "code",
   "execution_count": 380,
   "metadata": {},
   "outputs": [
    {
     "data": {
      "image/png": "[encoded data removed]",
      "text/plain": [
       "<matplotlib.figure.Figure at 0x7f95c8039110>"
      ]
     },
     "metadata": {},
     "output_type": "display_data"
    }
   ],
   "source": [
    "grid = gridfunc(classifier,{'n_estimators': [4,8,16,256,1024]} , X, y)\n",
    "\n",
    "hp_cv_scores(grid)"
   ]
  },
  {
   "cell_type": "code",
   "execution_count": 381,
   "metadata": {},
   "outputs": [
    {
     "data": {
      "image/png": "[encoded data removed]",
      "text/plain": [
       "<matplotlib.figure.Figure at 0x7f95c9bba790>"
      ]
     },
     "metadata": {},
     "output_type": "display_data"
    }
   ],
   "source": [
    "grid = gridfunc(classifier,{'max_features': ['log2', 'sqrt']} , X, y)\n",
    "\n",
    "hp_cv_scores(grid)"
   ]
  },
  {
   "cell_type": "code",
   "execution_count": 382,
   "metadata": {},
   "outputs": [
    {
     "data": {
      "image/png": "[encoded data removed]",
      "text/plain": [
       "<matplotlib.figure.Figure at 0x7f95c1e2c8d0>"
      ]
     },
     "metadata": {},
     "output_type": "display_data"
    }
   ],
   "source": [
    "grid = gridfunc(classifier,{'criterion': ['entropy', 'gini']} , X, y)\n",
    "\n",
    "hp_cv_scores(grid)"
   ]
  },
  {
   "cell_type": "code",
   "execution_count": 383,
   "metadata": {},
   "outputs": [
    {
     "data": {
      "image/png": "[encoded data removed]",
      "text/plain": [
       "<matplotlib.figure.Figure at 0x7f95c9f582d0>"
      ]
     },
     "metadata": {},
     "output_type": "display_data"
    }
   ],
   "source": [
    "grid = gridfunc(classifier,{'min_samples_split': [2, 3, 5, 10, 15,20,25,30,35]} , X, y)\n",
    "\n",
    "hp_cv_scores(grid)"
   ]
  },
  {
   "cell_type": "code",
   "execution_count": 384,
   "metadata": {},
   "outputs": [
    {
     "data": {
      "image/png": "[encoded data removed]",
      "text/plain": [
       "<matplotlib.figure.Figure at 0x7f95c1e13710>"
      ]
     },
     "metadata": {},
     "output_type": "display_data"
    }
   ],
   "source": [
    "grid = gridfunc(classifier,{'min_samples_leaf': [1,5,8,50,100]} , X, y)\n",
    "\n",
    "hp_cv_scores(grid)"
   ]
  },
  {
   "cell_type": "code",
   "execution_count": 386,
   "metadata": {
    "collapsed": true
   },
   "outputs": [],
   "source": [
    "##final tuned parameters"
   ]
  },
  {
   "cell_type": "code",
   "execution_count": 375,
   "metadata": {},
   "outputs": [],
   "source": [
    "def gridfunc(classifier, parameter, X_t, Y_t):\n",
    "    \n",
    "    \n",
    "    clf = classifier\n",
    "    \n",
    "    parameters = parameter\n",
    "    acc_scorer = make_scorer(accuracy_score)\n",
    "    \n",
    "    # Run the grid search\n",
    "    grid_obj = GridSearchCV(clf, parameters, scoring=acc_scorer)\n",
    "    grid_obj = grid_obj.fit(X_train, y_train)\n",
    "    \n",
    "    return grid_obj\n",
    "\n"
   ]
  },
  {
   "cell_type": "code",
   "execution_count": 376,
   "metadata": {
    "collapsed": true
   },
   "outputs": [],
   "source": [
    "classifier = RandomForestClassifier(oob_score=True, random_state=0)\n",
    "\n",
    "\n",
    "parameter = {'n_estimators': [4, 16], \n",
    "              'max_features': ['log2'], \n",
    "              'criterion': ['gini'],\n",
    "              'max_depth': [4, 5], \n",
    "              'min_samples_split': [5, 30],\n",
    "              'min_samples_leaf': [1]\n",
    "             }\n"
   ]
  },
  {
   "cell_type": "code",
   "execution_count": null,
   "metadata": {
    "collapsed": true
   },
   "outputs": [],
   "source": [
    "from scipy.stats import randint as sp_randint\n",
    "from sklearn.model_selection import RandomizedSearchCV\n",
    "from sklearn.cross_validation import StratifiedKFold"
   ]
  },
  {
   "cell_type": "code",
   "execution_count": null,
   "metadata": {
    "collapsed": true
   },
   "outputs": [],
   "source": [
    "# def gridfunc(classifier, parameter, X_t, Y_t):\n",
    "    \n",
    "    \n",
    "#     clf = classifier\n",
    "    \n",
    "#     parameters = parameter\n",
    "#     acc_scorer = make_scorer(accuracy_score)\n",
    "    \n",
    "    \n",
    "#     cross_validation = StratifiedKFold(y, n_folds=5)\n",
    "    \n",
    "#     # Run the grid search\n",
    "#     grid_obj = GridSearchCV(clf, parameters, scoring=acc_scorer, cv=cross_validation)\n",
    "   \n",
    "#     grid_obj = GridSearchCV(clf, parameters, scoring=acc_scorer)\n",
    "#     grid_obj = grid_obj.fit(X, y)\n",
    "    \n",
    "#     return grid_obj\n",
    "\n"
   ]
  },
  {
   "cell_type": "code",
   "execution_count": 377,
   "metadata": {},
   "outputs": [
    {
     "data": {
      "text/plain": [
       "{'mean_fit_time': array([ 0.01471734,  0.04081202,  0.01144107,  0.04163726,  0.0114727 ,\n",
       "         0.04043531,  0.01122602,  0.0416774 ]),\n",
       " 'mean_score_time': array([ 0.00357366,  0.00926407,  0.00252032,  0.00859968,  0.00254965,\n",
       "         0.00885566,  0.00249505,  0.00861692]),\n",
       " 'mean_test_score': array([ 0.81039326,  0.82724719,  0.81460674,  0.82022472,  0.7991573 ,\n",
       "         0.8244382 ,  0.81179775,  0.82162921]),\n",
       " 'mean_train_score': array([ 0.83638561,  0.84129643,  0.83214847,  0.83357267,  0.85602595,\n",
       "         0.86026014,  0.83075087,  0.84340023]),\n",
       " 'param_criterion': masked_array(data = ['gini' 'gini' 'gini' 'gini' 'gini' 'gini' 'gini' 'gini'],\n",
       "              mask = [False False False False False False False False],\n",
       "        fill_value = ?),\n",
       " 'param_max_depth': masked_array(data = [4 4 4 4 5 5 5 5],\n",
       "              mask = [False False False False False False False False],\n",
       "        fill_value = ?),\n",
       " 'param_max_features': masked_array(data = ['log2' 'log2' 'log2' 'log2' 'log2' 'log2' 'log2' 'log2'],\n",
       "              mask = [False False False False False False False False],\n",
       "        fill_value = ?),\n",
       " 'param_min_samples_leaf': masked_array(data = [1 1 1 1 1 1 1 1],\n",
       "              mask = [False False False False False False False False],\n",
       "        fill_value = ?),\n",
       " 'param_min_samples_split': masked_array(data = [5 5 30 30 5 5 30 30],\n",
       "              mask = [False False False False False False False False],\n",
       "        fill_value = ?),\n",
       " 'param_n_estimators': masked_array(data = [4 16 4 16 4 16 4 16],\n",
       "              mask = [False False False False False False False False],\n",
       "        fill_value = ?),\n",
       " 'params': ({'criterion': 'gini',\n",
       "   'max_depth': 4,\n",
       "   'max_features': 'log2',\n",
       "   'min_samples_leaf': 1,\n",
       "   'min_samples_split': 5,\n",
       "   'n_estimators': 4},\n",
       "  {'criterion': 'gini',\n",
       "   'max_depth': 4,\n",
       "   'max_features': 'log2',\n",
       "   'min_samples_leaf': 1,\n",
       "   'min_samples_split': 5,\n",
       "   'n_estimators': 16},\n",
       "  {'criterion': 'gini',\n",
       "   'max_depth': 4,\n",
       "   'max_features': 'log2',\n",
       "   'min_samples_leaf': 1,\n",
       "   'min_samples_split': 30,\n",
       "   'n_estimators': 4},\n",
       "  {'criterion': 'gini',\n",
       "   'max_depth': 4,\n",
       "   'max_features': 'log2',\n",
       "   'min_samples_leaf': 1,\n",
       "   'min_samples_split': 30,\n",
       "   'n_estimators': 16},\n",
       "  {'criterion': 'gini',\n",
       "   'max_depth': 5,\n",
       "   'max_features': 'log2',\n",
       "   'min_samples_leaf': 1,\n",
       "   'min_samples_split': 5,\n",
       "   'n_estimators': 4},\n",
       "  {'criterion': 'gini',\n",
       "   'max_depth': 5,\n",
       "   'max_features': 'log2',\n",
       "   'min_samples_leaf': 1,\n",
       "   'min_samples_split': 5,\n",
       "   'n_estimators': 16},\n",
       "  {'criterion': 'gini',\n",
       "   'max_depth': 5,\n",
       "   'max_features': 'log2',\n",
       "   'min_samples_leaf': 1,\n",
       "   'min_samples_split': 30,\n",
       "   'n_estimators': 4},\n",
       "  {'criterion': 'gini',\n",
       "   'max_depth': 5,\n",
       "   'max_features': 'log2',\n",
       "   'min_samples_leaf': 1,\n",
       "   'min_samples_split': 30,\n",
       "   'n_estimators': 16}),\n",
       " 'rank_test_score': array([7, 1, 5, 4, 8, 2, 6, 3], dtype=int32),\n",
       " 'split0_test_score': array([ 0.78151261,  0.79411765,  0.79831933,  0.79831933,  0.78571429,\n",
       "         0.81092437,  0.80252101,  0.80252101]),\n",
       " 'split0_train_score': array([ 0.84177215,  0.84599156,  0.83333333,  0.83966245,  0.8649789 ,\n",
       "         0.86919831,  0.83333333,  0.85021097]),\n",
       " 'split1_test_score': array([ 0.84033613,  0.84033613,  0.83613445,  0.84033613,  0.82773109,\n",
       "         0.83613445,  0.82352941,  0.84033613]),\n",
       " 'split1_train_score': array([ 0.83755274,  0.83966245,  0.82067511,  0.83122363,  0.83755274,\n",
       "         0.85654008,  0.82278481,  0.83755274]),\n",
       " 'split2_test_score': array([ 0.80932203,  0.84745763,  0.80932203,  0.8220339 ,  0.78389831,\n",
       "         0.82627119,  0.80932203,  0.8220339 ]),\n",
       " 'split2_train_score': array([ 0.82983193,  0.83823529,  0.84243697,  0.82983193,  0.86554622,\n",
       "         0.85504202,  0.83613445,  0.84243697]),\n",
       " 'std_fit_time': array([ 0.00123576,  0.00073133,  0.00021548,  0.00185613,  0.00036325,\n",
       "         0.00014392,  0.00020256,  0.00150673]),\n",
       " 'std_score_time': array([  4.64416872e-04,   9.50566280e-04,   2.66054909e-05,\n",
       "          9.98288577e-05,   5.18924304e-05,   2.72138165e-04,\n",
       "          1.09222428e-05,   2.19139317e-04]),\n",
       " 'std_test_score': array([ 0.02406014,  0.02365459,  0.01590116,  0.01722454,  0.02026085,\n",
       "         0.01038692,  0.00876381,  0.01546225]),\n",
       " 'std_train_score': array([ 0.00494394,  0.00337069,  0.00892366,  0.00434344,  0.01306459,\n",
       "         0.00634976,  0.00574776,  0.00521239])}"
      ]
     },
     "execution_count": 377,
     "metadata": {},
     "output_type": "execute_result"
    }
   ],
   "source": [
    "grid = gridfunc(classifier, parameter, X, y)\n",
    "\n",
    "grid.cv_results_"
   ]
  },
  {
   "cell_type": "code",
   "execution_count": 378,
   "metadata": {
    "scrolled": true
   },
   "outputs": [
    {
     "data": {
      "text/plain": [
       "RandomForestClassifier(bootstrap=True, class_weight=None, criterion='gini',\n",
       "            max_depth=4, max_features='log2', max_leaf_nodes=None,\n",
       "            min_impurity_split=1e-07, min_samples_leaf=1,\n",
       "            min_samples_split=5, min_weight_fraction_leaf=0.0,\n",
       "            n_estimators=16, n_jobs=1, oob_score=True, random_state=0,\n",
       "            verbose=0, warm_start=False)"
      ]
     },
     "execution_count": 378,
     "metadata": {},
     "output_type": "execute_result"
    }
   ],
   "source": [
    " # Set the clf to the best combination of parameters\n",
    "clf = grid.best_estimator_\n",
    "    \n",
    "    # Fit the best algorithm to the data. \n",
    "clf.fit(X_train, y_train)\n",
    "    \n",
    "    "
   ]
  },
  {
   "cell_type": "code",
   "execution_count": 350,
   "metadata": {
    "collapsed": true
   },
   "outputs": [],
   "source": [
    "\n",
    "from sklearn.model_selection import RandomizedSearchCV"
   ]
  },
  {
   "cell_type": "code",
   "execution_count": 351,
   "metadata": {
    "collapsed": true
   },
   "outputs": [],
   "source": [
    "# def gridfunc(classifier, parameter, X_t, Y_t):\n",
    "    \n",
    "    \n",
    "#     clf = classifier\n",
    "    \n",
    "#     parameters = parameter\n",
    "#     acc_scorer = make_scorer(accuracy_score)\n",
    "    \n",
    "#     n_iter_search = 20\n",
    "#     # Run the grid search\n",
    "#     grid_obj = RandomizedSearchCV(clf, param_distributions=param_dist, n_iter=n_iter_search)\n",
    "#     grid_obj = grid_obj.fit(X, y)\n",
    "    \n",
    "#     return grid_obj\n",
    "\n"
   ]
  },
  {
   "cell_type": "code",
   "execution_count": 352,
   "metadata": {},
   "outputs": [],
   "source": [
    "# classifier = RandomForestClassifier()\n",
    "\n",
    "\n",
    "# param_dist = {\"max_depth\": [3, None],\n",
    "#               \"max_features\": [1, 2, 4, 5],\n",
    "#               \"min_samples_split\": [5, 30],\n",
    "#               \"min_samples_leaf\": [1, 2, 4, 5],\n",
    "#               \"bootstrap\": [True, False],\n",
    "#               \"criterion\": [\"gini\", \"entropy\"]}\n"
   ]
  },
  {
   "cell_type": "code",
   "execution_count": 353,
   "metadata": {
    "scrolled": true
   },
   "outputs": [],
   "source": [
    "# grid = gridfunc(classifier, parameter, X, y)\n",
    "\n",
    "# grid.cv_results_"
   ]
  },
  {
   "cell_type": "code",
   "execution_count": 354,
   "metadata": {},
   "outputs": [],
   "source": [
    "#  # Set the clf to the best combination of parameters\n",
    "# clf = grid.best_estimator_\n",
    "    \n",
    "#     # Fit the best algorithm to the data. \n",
    "# clf.fit(X_train, y_train)\n",
    "    \n",
    "    "
   ]
  },
  {
   "cell_type": "code",
   "execution_count": null,
   "metadata": {},
   "outputs": [],
   "source": []
  },
  {
   "cell_type": "code",
   "execution_count": 355,
   "metadata": {
    "scrolled": false
   },
   "outputs": [
    {
     "data": {
      "text/plain": [
       "array([1, 0, 0, 1, 0, 0, 0, 0, 0, 0, 0, 0, 1, 0, 0, 1, 0, 0, 1, 1, 0, 1, 0,\n",
       "       0, 0, 0, 0, 0, 0, 0, 0, 0, 0, 0, 0, 0, 0, 1, 1, 0, 1, 0, 1, 0, 1, 0,\n",
       "       0, 0, 1, 0, 1, 1, 0, 1, 0, 1, 0, 1, 0, 0, 0, 0, 0, 0, 0, 0, 1, 1, 0,\n",
       "       1, 0, 0, 0, 1, 0, 0, 1, 0, 1, 1, 0, 1, 0, 0, 0, 0, 1, 0, 1, 0, 0, 0,\n",
       "       1, 0, 0, 0, 0, 0, 1, 0, 1, 0, 0, 1, 1, 0, 0, 0, 1, 0, 0, 0, 0, 0, 0,\n",
       "       0, 1, 1, 0, 0, 1, 0, 0, 0, 0, 0, 0, 1, 1, 0, 0, 1, 0, 0, 0, 1, 1, 0,\n",
       "       0, 0, 1, 1, 1, 1, 1, 0, 1, 0, 1, 0, 1, 0, 0, 1, 0, 0, 0, 0, 1, 0, 0,\n",
       "       0, 0, 0, 0, 0, 0, 0, 0, 0, 0, 0, 1, 1, 0, 0, 1, 1, 1])"
      ]
     },
     "execution_count": 355,
     "metadata": {},
     "output_type": "execute_result"
    }
   ],
   "source": [
    "y_predict = clf.predict(X_test)\n",
    "y_predict"
   ]
  },
  {
   "cell_type": "code",
   "execution_count": 356,
   "metadata": {},
   "outputs": [
    {
     "data": {
      "text/plain": [
       "(179,)"
      ]
     },
     "execution_count": 356,
     "metadata": {},
     "output_type": "execute_result"
    }
   ],
   "source": [
    "y_predict.shape"
   ]
  },
  {
   "cell_type": "code",
   "execution_count": 385,
   "metadata": {},
   "outputs": [
    {
     "data": {
      "text/plain": [
       "0.8044692737430168"
      ]
     },
     "execution_count": 385,
     "metadata": {},
     "output_type": "execute_result"
    }
   ],
   "source": [
    "from sklearn import metrics\n",
    "from sklearn.metrics import accuracy_score\n",
    "from sklearn.model_selection import cross_val_predict\n",
    "\n",
    "\n",
    "accuracy_score(y_test, y_predict)"
   ]
  },
  {
   "cell_type": "code",
   "execution_count": null,
   "metadata": {
    "collapsed": true
   },
   "outputs": [],
   "source": []
  }
 ],
 "metadata": {
  "kernelspec": {
   "display_name": "Python 2",
   "language": "python",
   "name": "python2"
  },
  "language_info": {
   "codemirror_mode": {
    "name": "ipython",
    "version": 2
   },
   "file_extension": ".py",
   "mimetype": "text/x-python",
   "name": "python",
   "nbconvert_exporter": "python",
   "pygments_lexer": "ipython2",
   "version": "2.7.13"
  }
 },
 "nbformat": 4,
 "nbformat_minor": 2
}
